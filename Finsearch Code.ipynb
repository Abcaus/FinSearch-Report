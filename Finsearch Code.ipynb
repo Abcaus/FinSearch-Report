{
 "cells": [
  {
   "cell_type": "code",
   "execution_count": 1,
   "metadata": {},
   "outputs": [],
   "source": [
    "import numpy as np\n",
    "import pandas as pd"
   ]
  },
  {
   "cell_type": "code",
   "execution_count": 6,
   "metadata": {},
   "outputs": [],
   "source": [
    "# Portfolio allocation for an Indian investor\n",
    "allocation_india = {\n",
    "    'Large_Cap_Indian_Stocks': 0.20,\n",
    "    'Mid_Cap_Indian_Stocks': 0.10,\n",
    "    'Small_Cap_Indian_Stocks': 0.10,\n",
    "    'International_Equities': 0.10,\n",
    "    'Defensive_Indian_Stocks': 0.10,\n",
    "    'Government_Bonds': 0.15,\n",
    "    'Corporate_Bonds': 0.10,\n",
    "    'Fixed_Deposits_Savings_Bonds': 0.05,\n",
    "    'Gold': 0.05,\n",
    "    'Real_Estate': 0.03,\n",
    "    'Cryptocurrencies': 0.02\n",
    "}\n",
    "\n",
    "# Historical returns during recession periods for an Indian investor\n",
    "returns_india = {\n",
    "    'Global_Financial_Crisis': {\n",
    "        'Large_Cap_Indian_Stocks': -0.18,\n",
    "        'Mid_Cap_Indian_Stocks': -0.25,\n",
    "        'Small_Cap_Indian_Stocks': -0.30,\n",
    "        'International_Equities': -0.20,\n",
    "        'Defensive_Indian_Stocks': 0.00,\n",
    "        'Government_Bonds': 0.10,\n",
    "        'Corporate_Bonds': 0.05,\n",
    "        'Fixed_Deposits_Savings_Bonds': 0.04,\n",
    "        'Gold': 0.20,\n",
    "        'Real_Estate': -0.10,\n",
    "        'Cryptocurrencies': np.nan  # Not relevant during this period\n",
    "    },\n",
    "    'Indian_Market_Slowdown_2013': {\n",
    "        'Large_Cap_Indian_Stocks': -0.05,\n",
    "        'Mid_Cap_Indian_Stocks': -0.10,\n",
    "        'Small_Cap_Indian_Stocks': -0.15,\n",
    "        'International_Equities': 0.02,\n",
    "        'Defensive_Indian_Stocks': 0.03,\n",
    "        'Government_Bonds': 0.07,\n",
    "        'Corporate_Bonds': 0.04,\n",
    "        'Fixed_Deposits_Savings_Bonds': 0.05,\n",
    "        'Gold': 0.10,\n",
    "        'Real_Estate': -0.05,\n",
    "        'Cryptocurrencies': np.nan  # Not relevant during this period\n",
    "    },\n",
    "    'COVID_19_Pandemic': {\n",
    "        'Large_Cap_Indian_Stocks': -0.07,\n",
    "        'Mid_Cap_Indian_Stocks': -0.12,\n",
    "        'Small_Cap_Indian_Stocks': -0.20,\n",
    "        'International_Equities': -0.08,\n",
    "        'Defensive_Indian_Stocks': 0.05,\n",
    "        'Government_Bonds': 0.08,\n",
    "        'Corporate_Bonds': 0.06,\n",
    "        'Fixed_Deposits_Savings_Bonds': 0.05,\n",
    "        'Gold': 0.25,\n",
    "        'Real_Estate': -0.10,\n",
    "        'Cryptocurrencies': 0.60  # High returns during COVID-19\n",
    "    }\n",
    "}"
   ]
  },
  {
   "cell_type": "code",
   "execution_count": 7,
   "metadata": {},
   "outputs": [],
   "source": [
    "# Function to calculate portfolio return, volatility, and drawdown\n",
    "def portfolio_performance(returns, allocation):\n",
    "    portfolio_return = sum(allocation[asset] * returns[asset] for asset in allocation if not np.isnan(returns[asset]))\n",
    "    portfolio_volatility = np.sqrt(sum((allocation[asset] * returns[asset])**2 for asset in allocation if not np.isnan(returns[asset])))\n",
    "    max_drawdown = min(returns.values())  # Simplified drawdown calculation for this simulation\n",
    "    sharpe_ratio = portfolio_return / portfolio_volatility  # Assuming risk-free rate is 0 for simplicity\n",
    "    return portfolio_return, portfolio_volatility, max_drawdown, sharpe_ratio"
   ]
  },
  {
   "cell_type": "code",
   "execution_count": 9,
   "metadata": {},
   "outputs": [
    {
     "name": "stdout",
     "output_type": "stream",
     "text": [
      "                             Portfolio Return  Portfolio Volatility  \\\n",
      "Global_Financial_Crisis               -0.0820              0.059867   \n",
      "Indian_Market_Slowdown_2013           -0.0095              0.024449   \n",
      "COVID_19_Pandemic                     -0.0070              0.036394   \n",
      "\n",
      "                             Maximum Drawdown  Sharpe Ratio  \n",
      "Global_Financial_Crisis                 -0.30     -1.369714  \n",
      "Indian_Market_Slowdown_2013             -0.15     -0.388565  \n",
      "COVID_19_Pandemic                       -0.20     -0.192341  \n"
     ]
    }
   ],
   "source": [
    "# Simulate performance for each recession period for an Indian investor\n",
    "results_india = {}\n",
    "for period in returns_india:\n",
    "    period_return, period_volatility, period_drawdown, period_sharpe = portfolio_performance(returns_india[period], allocation_india)\n",
    "    results_india[period] = {\n",
    "        'Portfolio Return': period_return,\n",
    "        'Portfolio Volatility': period_volatility,\n",
    "        'Maximum Drawdown': period_drawdown,\n",
    "        'Sharpe Ratio': period_sharpe\n",
    "    }\n",
    "# Wrote period_ bcoz else It Will Interprete Return As a command :)\n",
    "\n",
    "# Convert results to DataFrame for better readability\n",
    "results_india_df = pd.DataFrame(results_india).T\n",
    "print(results_india_df)"
   ]
  }
 ],
 "metadata": {
  "kernelspec": {
   "display_name": "base",
   "language": "python",
   "name": "python3"
  },
  "language_info": {
   "codemirror_mode": {
    "name": "ipython",
    "version": 3
   },
   "file_extension": ".py",
   "mimetype": "text/x-python",
   "name": "python",
   "nbconvert_exporter": "python",
   "pygments_lexer": "ipython3",
   "version": "3.11.7"
  }
 },
 "nbformat": 4,
 "nbformat_minor": 2
}
